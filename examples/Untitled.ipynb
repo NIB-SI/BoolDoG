{
 "cells": [
  {
   "cell_type": "code",
   "execution_count": 1,
   "metadata": {},
   "outputs": [],
   "source": [
    "from IPython.display import Image\n",
    "from IPython.display import display\n",
    "import PyBoolNet"
   ]
  },
  {
   "cell_type": "code",
   "execution_count": 2,
   "metadata": {},
   "outputs": [],
   "source": [
    "import ipyplot\n"
   ]
  },
  {
   "cell_type": "code",
   "execution_count": 3,
   "metadata": {},
   "outputs": [],
   "source": [
    "def my_display(*figures):\n",
    "    images = []\n",
    "    for f in figures:\n",
    "        images.append(Image(f))\n",
    "    display(*images)"
   ]
  },
  {
   "cell_type": "code",
   "execution_count": 4,
   "metadata": {},
   "outputs": [],
   "source": [
    "import PyBoolNet"
   ]
  },
  {
   "cell_type": "code",
   "execution_count": 5,
   "metadata": {},
   "outputs": [],
   "source": [
    "def plot_transitions(bnet, fig, init=[\"1000\"]):\n",
    "    primes = PyBoolNet.FileExchange.bnet2primes(bnet)\n",
    "    stg = PyBoolNet.StateTransitionGraphs.primes2stg(primes, \"synchronous\", init)\n",
    "    stg.graph[\"node\"][\"color\"] = \"cyan\"\n",
    "    stg.graph[\"node\"][\"height\"] = 0.3\n",
    "    stg.graph[\"node\"][\"width\"] = 0.45\n",
    "\n",
    "\n",
    "    PyBoolNet.StateTransitionGraphs.stg2image(stg, fig, LayoutEngine=\"dot\")\n"
   ]
  },
  {
   "cell_type": "code",
   "execution_count": 6,
   "metadata": {},
   "outputs": [
    {
     "name": "stdout",
     "output_type": "stream",
     "text": [
      "created delayfunc_a.png\n"
     ]
    }
   ],
   "source": [
    "bnet = \"\"\"\n",
    "X, X & !Xppp \n",
    "Xp, X & !Xpp \n",
    "Xpp, Xp & !Xppp\n",
    "Xppp, Xpp & !X\n",
    "\"\"\"\n",
    "plot_transitions(bnet, \"delayfunc_a.png\")\n"
   ]
  },
  {
   "cell_type": "code",
   "execution_count": 55,
   "metadata": {},
   "outputs": [
    {
     "data": {
      "text/plain": [
       "['00000']"
      ]
     },
     "execution_count": 55,
     "metadata": {},
     "output_type": "execute_result"
    }
   ],
   "source": [
    "[str(0)*5]"
   ]
  },
  {
   "cell_type": "code",
   "execution_count": 56,
   "metadata": {},
   "outputs": [
    {
     "name": "stdout",
     "output_type": "stream",
     "text": [
      "created delayfunc_b.png\n"
     ]
    },
    {
     "data": {
      "image/png": "[encoded data removed]",
      "text/plain": [
       "<IPython.core.display.Image object>"
      ]
     },
     "execution_count": 56,
     "metadata": {},
     "output_type": "execute_result"
    }
   ],
   "source": [
    "bnet = \"\"\"\n",
    "X, X & !Xppp\n",
    "Xp, X  & !(Xp | Xpp | Xppp)\n",
    "Xpp, Xp\n",
    "Xppp, Xpp \n",
    "\"\"\"\n",
    "plot_transitions(bnet, \"delayfunc_b.png\", init=[\"1000\"])\n",
    "Image('delayfunc_b.png')"
   ]
  },
  {
   "cell_type": "code",
   "execution_count": 49,
   "metadata": {},
   "outputs": [
    {
     "name": "stdout",
     "output_type": "stream",
     "text": [
      "created delayfunc_1b.png\n"
     ]
    },
    {
     "data": {
      "image/png": "[encoded data removed]",
      "text/plain": [
       "<IPython.core.display.Image object>"
      ]
     },
     "execution_count": 49,
     "metadata": {},
     "output_type": "execute_result"
    }
   ],
   "source": [
    "bnet = \"\"\"\n",
    "X, X & !Xp\n",
    "Xp, X  & !(Xp)\n",
    "\"\"\"\n",
    "plot_transitions(bnet, \"delayfunc_1b.png\", init=[\"10\"])\n",
    "Image('delayfunc_1b.png')"
   ]
  },
  {
   "cell_type": "code",
   "execution_count": 50,
   "metadata": {},
   "outputs": [
    {
     "name": "stdout",
     "output_type": "stream",
     "text": [
      "created ./delayfunc_1b.bnet\n"
     ]
    }
   ],
   "source": [
    "PyBoolNet.FileExchange.primes2bnet(PyBoolNet.FileExchange.bnet2primes(bnet), \"./delayfunc_1b.bnet\")"
   ]
  },
  {
   "cell_type": "code",
   "execution_count": 51,
   "metadata": {},
   "outputs": [
    {
     "name": "stdout",
     "output_type": "stream",
     "text": [
      "X,   X&!Xp\r\n",
      "Xp,  X&!Xp\r\n"
     ]
    }
   ],
   "source": [
    "!cat ./delayfunc_1b.bnet\n"
   ]
  },
  {
   "cell_type": "code",
   "execution_count": null,
   "metadata": {},
   "outputs": [],
   "source": []
  },
  {
   "cell_type": "code",
   "execution_count": 19,
   "metadata": {
    "scrolled": false
   },
   "outputs": [
    {
     "data": {
      "text/html": [
       "<div style=\"display: inline-block; width: 120px; vertical-align: top; text-align: center;\"><h4 style=\"font-size: 12px\">0</h4><h4 style=\"font-size: 9px; padding-left: 10px; padding-right: 10px; width: 90%; word-wrap: break-word; white-space: normal;\">delayfunc_a.png</h4><img src=\"delayfunc_a.png\" style=\"margin: 1px; width: 100px; border: 2px solid #ddd;\"/></div><div style=\"display: inline-block; width: 120px; vertical-align: top; text-align: center;\"><h4 style=\"font-size: 12px\">1</h4><h4 style=\"font-size: 9px; padding-left: 10px; padding-right: 10px; width: 90%; word-wrap: break-word; white-space: normal;\">delayfunc_b.png</h4><img src=\"delayfunc_b.png\" style=\"margin: 1px; width: 100px; border: 2px solid #ddd;\"/></div>"
      ],
      "text/plain": [
       "<IPython.core.display.HTML object>"
      ]
     },
     "metadata": {},
     "output_type": "display_data"
    }
   ],
   "source": [
    "ipyplot.plot_images([\"delayfunc_a.png\", \"delayfunc_b.png\"], max_images=20, img_width=100)"
   ]
  },
  {
   "cell_type": "code",
   "execution_count": 112,
   "metadata": {},
   "outputs": [],
   "source": [
    "bnet_b = \"\"\"\n",
    "X, (X & !Xppp) | !X\n",
    "Xp, X\n",
    "Xpp, Xp\n",
    "Xppp, Xpp \n",
    "\"\"\""
   ]
  },
  {
   "cell_type": "code",
   "execution_count": 113,
   "metadata": {},
   "outputs": [
    {
     "name": "stdout",
     "output_type": "stream",
     "text": [
      "created delayfunc_b.png\n"
     ]
    },
    {
     "data": {
      "image/png": "[encoded data removed]",
      "text/plain": [
       "<IPython.core.display.Image object>"
      ]
     },
     "execution_count": 113,
     "metadata": {},
     "output_type": "execute_result"
    }
   ],
   "source": [
    "plot_transitions(bnet_b, \"delayfunc_b.png\")\n",
    "Image(\"delayfunc_b.png\")"
   ]
  },
  {
   "cell_type": "code",
   "execution_count": 16,
   "metadata": {},
   "outputs": [],
   "source": []
  },
  {
   "cell_type": "code",
   "execution_count": 17,
   "metadata": {},
   "outputs": [
    {
     "name": "stdout",
     "output_type": "stream",
     "text": [
      "created delayfunc.png\n"
     ]
    },
    {
     "data": {
      "image/png": "[encoded data removed]",
      "text/plain": [
       "<IPython.core.display.Image object>"
      ]
     },
     "execution_count": 17,
     "metadata": {},
     "output_type": "execute_result"
    }
   ],
   "source": [
    "PyBoolNet.StateTransitionGraphs.stg2image(stg, \"delayfunc.png\", LayoutEngine=\"dot\")\n",
    "Image(\"delayfunc.png\")"
   ]
  },
  {
   "cell_type": "code",
   "execution_count": null,
   "metadata": {},
   "outputs": [],
   "source": []
  },
  {
   "cell_type": "code",
   "execution_count": 55,
   "metadata": {},
   "outputs": [],
   "source": [
    "bnet = \"\"\"\n",
    "x , ! c & x\n",
    "\"\"\""
   ]
  },
  {
   "cell_type": "code",
   "execution_count": 56,
   "metadata": {},
   "outputs": [
    {
     "name": "stdout",
     "output_type": "stream",
     "text": [
      "created inh.png\n"
     ]
    }
   ],
   "source": [
    "primes = PyBoolNet.FileExchange.bnet2primes(bnet)\n",
    "stg = PyBoolNet.StateTransitionGraphs.primes2stg(primes, \"synchronous\")\n",
    "PyBoolNet.StateTransitionGraphs.stg2image(stg, \"inh.png\", LayoutEngine=\"dot\")"
   ]
  },
  {
   "cell_type": "code",
   "execution_count": 57,
   "metadata": {},
   "outputs": [
    {
     "data": {
      "image/png": "[encoded data removed]",
      "text/plain": [
       "<IPython.core.display.Image object>"
      ]
     },
     "execution_count": 57,
     "metadata": {},
     "output_type": "execute_result"
    }
   ],
   "source": [
    "Image(\"inh.png\")"
   ]
  },
  {
   "cell_type": "code",
   "execution_count": null,
   "metadata": {},
   "outputs": [],
   "source": []
  },
  {
   "cell_type": "code",
   "execution_count": null,
   "metadata": {},
   "outputs": [],
   "source": []
  },
  {
   "cell_type": "code",
   "execution_count": 27,
   "metadata": {},
   "outputs": [
    {
     "name": "stderr",
     "output_type": "stream",
     "text": [
      "test_bnet2primes_responds (PyBoolNet.Tests.Dependencies.TestBNetToPrime) ... ok\n",
      "test_eqntott_responds (PyBoolNet.Tests.Dependencies.TestEspresso) ... ok\n",
      "test_espresso_responds (PyBoolNet.Tests.Dependencies.TestEspresso) ... ok\n",
      "test_layout_engines (PyBoolNet.Tests.Dependencies.TestGraphviz) ... ERROR\n",
      "test_imagemagick_responds (PyBoolNet.Tests.Dependencies.TestImageMagick) ... ok\n",
      "test_matplotlib_responds (PyBoolNet.Tests.Dependencies.TestMatplotLib) ... ok\n",
      "test_networkx_import (PyBoolNet.Tests.Dependencies.TestNetworkX) ... ok\n",
      "test_nusmv_responds (PyBoolNet.Tests.Dependencies.TestNuSMV) ... FAIL\n",
      "test_clasp_responds (PyBoolNet.Tests.Dependencies.TestPotassco) ... ok\n",
      "test_gringo_responds (PyBoolNet.Tests.Dependencies.TestPotassco) ... ok\n",
      "\n",
      "======================================================================\n",
      "ERROR: test_layout_engines (PyBoolNet.Tests.Dependencies.TestGraphviz)\n",
      "----------------------------------------------------------------------\n",
      "Traceback (most recent call last):\n",
      "  File \"/home/cbleker/miniconda3/envs/python-env/lib/python3.8/site-packages/PyBoolNet/Tests/Dependencies.py\", line 95, in test_layout_engines\n",
      "    proc = subprocess.Popen([cmd, \"-V\"], stdout=subprocess.PIPE, stderr=subprocess.PIPE)\n",
      "  File \"/home/cbleker/miniconda3/envs/python-env/lib/python3.8/subprocess.py\", line 854, in __init__\n",
      "    self._execute_child(args, executable, preexec_fn, close_fds,\n",
      "  File \"/home/cbleker/miniconda3/envs/python-env/lib/python3.8/subprocess.py\", line 1702, in _execute_child\n",
      "    raise child_exception_type(errno_num, err_msg, err_filename)\n",
      "FileNotFoundError: [Errno 2] No such file or directory: '/usr/bin/dot'\n",
      "\n",
      "======================================================================\n",
      "FAIL: test_nusmv_responds (PyBoolNet.Tests.Dependencies.TestNuSMV)\n",
      "----------------------------------------------------------------------\n",
      "Traceback (most recent call last):\n",
      "  File \"/home/cbleker/miniconda3/envs/python-env/lib/python3.8/site-packages/PyBoolNet/Tests/Dependencies.py\", line 70, in test_nusmv_responds\n",
      "    self.assertEqual(True, \"NuSMV\" in out, msg)\n",
      "AssertionError: True != False : \n",
      "\n",
      "Call to NuSMV failed.\n",
      "command: \"/home/cbleker/miniconda3/envs/python-env/lib/python3.8/site-packages/PyBoolNet/Dependencies/NuSMV-a/NuSMVa_linux64\"\n",
      "\n",
      "----------------------------------------------------------------------\n",
      "Ran 10 tests in 0.260s\n",
      "\n",
      "FAILED (failures=1, errors=1)\n"
     ]
    }
   ],
   "source": [
    "stg.graph[\"node\"][\"color\"] = \"cyan\"\n",
    "#stg.graph[\"node\"][\"height\"] = 0.1\n",
    "#stg.graph[\"node\"][\"width\"] = 0.2\n",
    "\n",
    "\n",
    "\n",
    "#stg.graph[\"edge\"][\"arrowsize\"] = 0.5\n",
    "#stg.graph[\"edge\"][\"weight\"] = 0\n",
    "#stg.graph[\"edge\"][\"constraint\"] = False\n",
    "#stg.graph[\"splines\"] = \"curved\"\n",
    "\n",
    "#stg.graph[\"rankdir\"] = \"TB\"\n",
    "#stg.graph[\"remincross\"] = True"
   ]
  },
  {
   "cell_type": "code",
   "execution_count": null,
   "metadata": {},
   "outputs": [],
   "source": []
  }
 ],
 "metadata": {
  "kernelspec": {
   "display_name": "Python 3",
   "language": "python",
   "name": "python3"
  },
  "language_info": {
   "codemirror_mode": {
    "name": "ipython",
    "version": 3
   },
   "file_extension": ".py",
   "mimetype": "text/x-python",
   "name": "python",
   "nbconvert_exporter": "python",
   "pygments_lexer": "ipython3",
   "version": "3.8.1"
  }
 },
 "nbformat": 4,
 "nbformat_minor": 4
}
