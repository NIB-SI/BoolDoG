{
 "cells": [
  {
   "cell_type": "code",
   "execution_count": null,
   "metadata": {},
   "outputs": [],
   "source": [
    "%matplotlib inline"
   ]
  },
  {
   "cell_type": "code",
   "execution_count": null,
   "metadata": {},
   "outputs": [],
   "source": [
    "from IPython.display import Image"
   ]
  },
  {
   "cell_type": "code",
   "execution_count": null,
   "metadata": {},
   "outputs": [],
   "source": [
    "import sys\n",
    "import os\n",
    "import pandas as pd\n",
    "import numpy as np\n",
    "import itertools"
   ]
  },
  {
   "cell_type": "code",
   "execution_count": null,
   "metadata": {},
   "outputs": [],
   "source": [
    "import matplotlib.pyplot as plt"
   ]
  },
  {
   "cell_type": "code",
   "execution_count": null,
   "metadata": {},
   "outputs": [],
   "source": [
    "import igraph as ig"
   ]
  },
  {
   "cell_type": "code",
   "execution_count": null,
   "metadata": {},
   "outputs": [],
   "source": [
    "import squad_reboot"
   ]
  },
  {
   "cell_type": "code",
   "execution_count": null,
   "metadata": {},
   "outputs": [],
   "source": [
    "reload(squad_reboot)"
   ]
  },
  {
   "cell_type": "markdown",
   "metadata": {},
   "source": [
    "## Example from [SQUADTransformation.ipynb](https://github.com/caramirezal/SQUADBookChapter/blob/master/SQUADTransformation.ipynb)"
   ]
  },
  {
   "cell_type": "code",
   "execution_count": null,
   "metadata": {},
   "outputs": [],
   "source": [
    "g1 = {'A': {'A': '+'}, \n",
    "      'B': {'A': '+', 'C': '-'}, \n",
    "      'C': {'A': '-', 'B': '-'}}"
   ]
  },
  {
   "cell_type": "code",
   "execution_count": null,
   "metadata": {},
   "outputs": [],
   "source": [
    "B = squad_reboot.SquadRegulatoryNetwork(g1)"
   ]
  },
  {
   "cell_type": "code",
   "execution_count": null,
   "metadata": {},
   "outputs": [],
   "source": [
    "initial_state = {\"A\":0, \"B\":1, \"C\":1}\n",
    "_ = B.dynamic_simulation(initial_state=initial_state, h=50, t_max=10)"
   ]
  },
  {
   "cell_type": "markdown",
   "metadata": {},
   "source": [
    "## Example from [SQUAD_implementation.ipynb](https://github.com/caramirezal/SQUADBookChapter/blob/master/SQUAD_implementation.ipynb)"
   ]
  },
  {
   "cell_type": "code",
   "execution_count": null,
   "metadata": {},
   "outputs": [],
   "source": [
    "# error in original https://github.com/caramirezal/SQUADBookChapter/blob/master/SQUAD_implementation.ipynb??\n",
    "g2 = {\"A\":{\"A\":\"+\", \"B\":\"-\", \"X\":\"+\"},  \n",
    "      \"B\":{\"A\":\"-\", \"Y\":\"+\", \"B\":\"+\"}, \n",
    "      \"X\":{\"Z\":\"-\", \"A\":\"+\"},\n",
    "      \"Y\":{\"A\":\"-\", \"B\":\"+\"},\n",
    "      \"Z\":{\"B\":\"+\"}}\n"
   ]
  },
  {
   "cell_type": "code",
   "execution_count": null,
   "metadata": {},
   "outputs": [],
   "source": [
    "B = squad_reboot.SquadRegulatoryNetwork(g2)"
   ]
  },
  {
   "cell_type": "code",
   "execution_count": null,
   "metadata": {},
   "outputs": [],
   "source": [
    "initial_state = 0\n",
    "events = {10:{\"X\":{\"perturbation\":.25}}, \n",
    "          20:{\"Y\":{\"perturbation\":.25}}}\n",
    "_ = B.dynamic_simulation(events=events, initial_state=initial_state)"
   ]
  },
  {
   "cell_type": "code",
   "execution_count": null,
   "metadata": {},
   "outputs": [],
   "source": [
    "events = {10:{\"Y\":{\"perturbation\":1}}, \n",
    "          20:{\"X\":{\"perturbation\":1}}}\n",
    "_ = B.dynamic_simulation(events=events, initial_state=initial_state)"
   ]
  },
  {
   "cell_type": "code",
   "execution_count": null,
   "metadata": {},
   "outputs": [],
   "source": [
    "events = {10:{\"X\":{\"perturbation\":1}}, \n",
    "          20:{\"Y\":{\"perturbation\":1}}}\n",
    "_ = B.dynamic_simulation(events=events, initial_state=initial_state)"
   ]
  },
  {
   "cell_type": "code",
   "execution_count": null,
   "metadata": {},
   "outputs": [],
   "source": [
    "events = {9:{\"A\":{\"perturbation\":0.5, \"duration\":1}}, \n",
    "          7:{\"Y\":{\"perturbation\":0.3, \"duration\":5}},\n",
    "          10:{\"X\":{\"perturbation\":.25, \"duration\":5}, \"Z\":{\"perturbation\":0}}, \n",
    "          20:{\"Y\":{\"perturbation\":1}}\n",
    "         }\n",
    "_ = B.dynamic_simulation(events=events, initial_state=initial_state)"
   ]
  },
  {
   "cell_type": "markdown",
   "metadata": {},
   "source": [
    "## A. thaliana network from graphml\n"
   ]
  },
  {
   "cell_type": "code",
   "execution_count": null,
   "metadata": {},
   "outputs": [],
   "source": [
    "import xmltodict"
   ]
  },
  {
   "cell_type": "code",
   "execution_count": null,
   "metadata": {},
   "outputs": [],
   "source": [
    "# load graph\n",
    "g_path = \"./examples/Athaliana.graphml\"\n",
    "g = ig.Graph.Read_GraphML(g_path)\n",
    "\n",
    "# add edge attributes (i.e. activator or inhibitor)\n",
    "with open(g_path) as f:\n",
    "    d = xmltodict.parse(f.read())\n",
    "    \n",
    "D = {}\n",
    "W = {}\n",
    "N = {}\n",
    "\n",
    "for v in d[\"graphml\"][\"graph\"][\"node\"]:\n",
    "    N[v[\"@id\"]] = v[\"data\"][\"y:ShapeNode\"][\"y:NodeLabel\"][\"#text\"]\n",
    "\n",
    "\n",
    "for e in d[\"graphml\"][\"graph\"][\"edge\"]:\n",
    "    if e[\"data\"][\"y:PolyLineEdge\"]['y:Arrows']['@target'] == \"standard\":\n",
    "        D[e[\"@id\"]] = \"+\"\n",
    "        W[e[\"@id\"]] = 1\n",
    "    elif e[\"data\"][\"y:PolyLineEdge\"]['y:Arrows']['@target'] == \"white_diamond\":\n",
    "        D[e[\"@id\"]] = \"-\"\n",
    "        W[e[\"@id\"]] = -1\n",
    "    else: \n",
    "        print(e[\"@id\"])\n",
    "        \n",
    "for e in g.es():\n",
    "    e[\"type\"] = D[e[\"id\"]]\n",
    "    e[\"weight\"] = W[e[\"id\"]]\n",
    "\n",
    "for v in g.vs():\n",
    "    v[\"id\"] = N[v[\"id\"]]\n",
    "    \n",
    "del D, W, N"
   ]
  },
  {
   "cell_type": "code",
   "execution_count": null,
   "metadata": {},
   "outputs": [],
   "source": [
    "edge_color_dict = {\"+\":\"green\", \"-\":\"red\"}\n",
    "layout = g.layout(\"circular\")\n",
    "visual_style = {}\n",
    "visual_style[\"vertex_size\"] = 20\n",
    "visual_style[\"vertex_label\"] = g.vs[\"id\"]\n",
    "visual_style[\"edge_color\"] = [edge_color_dict[e[\"type\"]] for e in g.es()]\n",
    "visual_style[\"layout\"] = layout\n",
    "visual_style[\"bbox\"] = (300, 300)\n",
    "visual_style[\"margin\"] = 40\n",
    "visual_style[\"arrow_size\"] = 900\n",
    "visual_style[\"arrow_width\"] = 0\n",
    "\n",
    "ig.plot(g, **visual_style)"
   ]
  },
  {
   "cell_type": "code",
   "execution_count": null,
   "metadata": {},
   "outputs": [],
   "source": [
    "# standard dictionary\n",
    "g3 = {node[\"id\"]:{} for node in g.vs()}\n",
    "for e in g.es():\n",
    "    source = g.vs()[e.source][\"id\"]\n",
    "    target = g.vs()[e.target][\"id\"]\n",
    "    sign = e[\"type\"]\n",
    "    g3[target][source] = sign\n",
    "g3"
   ]
  },
  {
   "cell_type": "code",
   "execution_count": null,
   "metadata": {},
   "outputs": [],
   "source": [
    "B = squad_reboot.SquadRegulatoryNetwork(g3)"
   ]
  },
  {
   "cell_type": "code",
   "execution_count": null,
   "metadata": {},
   "outputs": [],
   "source": [
    "_ = B.dynamic_simulation(t_max=10)"
   ]
  },
  {
   "cell_type": "code",
   "execution_count": null,
   "metadata": {},
   "outputs": [],
   "source": []
  }
 ],
 "metadata": {
  "kernelspec": {
   "display_name": "Python 3",
   "language": "python",
   "name": "python3"
  },
  "language_info": {
   "codemirror_mode": {
    "name": "ipython",
    "version": 3
   },
   "file_extension": ".py",
   "mimetype": "text/x-python",
   "name": "python",
   "nbconvert_exporter": "python",
   "pygments_lexer": "ipython3",
   "version": "3.8.1"
  }
 },
 "nbformat": 4,
 "nbformat_minor": 4
}
